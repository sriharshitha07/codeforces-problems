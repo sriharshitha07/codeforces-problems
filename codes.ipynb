{
  "cells": [
    {
      "cell_type": "markdown",
      "metadata": {
        "id": "Jb0iu8p7QI-2"
      },
      "source": [
        "Week-2"
      ]
    },
    {
      "cell_type": "markdown",
      "metadata": {
        "id": "1d-Rf2SIPxSt"
      },
      "source": [
        "week-1\n",
        "colabpage\n",
        "codeforces intro\n",
        "python basics\n",
        "\n"
      ]
    },
    {
      "cell_type": "code",
      "execution_count": null,
      "metadata": {
        "id": "iDI3zVbLP-m_"
      },
      "outputs": [],
      "source": [
        "#watermelon\n",
        "'''int(x) for x in input()'''\n",
        "'''set=removes duplicate elements'''\n",
        "w = eval(input())\n",
        "if w>2 and w%2 ==0:\n",
        "    print(\"yes\")\n",
        "else:\n",
        "    print(\"no\")"
      ]
    },
    {
      "cell_type": "code",
      "execution_count": null,
      "metadata": {
        "id": "LWm9xtkbQak-"
      },
      "outputs": [],
      "source": [
        "#A+B\n",
        "n = int(input()) \n",
        "i = 0 \n",
        "for i in range(n): \n",
        "    a,b=map(int,input().split()) \n",
        "    c=a+b \n",
        "    print(c)"
      ]
    },
    {
      "cell_type": "code",
      "execution_count": null,
      "metadata": {
        "id": "Y9ZXbaR0Qjs1"
      },
      "outputs": [],
      "source": [
        "#Triangle\n",
        "a,b,c=map(int,input().split()) \n",
        "if a>b and a>c: \n",
        "   diff=a-b-c \n",
        "elif b>a and b>c: \n",
        "   diff=b-c-a \n",
        "else: \n",
        "   diff=c-a-b \n",
        "if diff<0: \n",
        "   print(\"0\") \n",
        "else: \n",
        "   print(diff + 1)"
      ]
    },
    {
      "cell_type": "code",
      "execution_count": null,
      "metadata": {
        "id": "X76li9eSQs91"
      },
      "outputs": [],
      "source": [
        "#dominopiling\n",
        "m, n = map(int, input().split())\n",
        "if m == 1 and n == 1:\n",
        "    print(0)\n",
        "else:\n",
        "    print(int(m * n) // 2)"
      ]
    },
    {
      "cell_type": "markdown",
      "metadata": {
        "id": "WbXrb8nfQ5OO"
      },
      "source": [
        "week-3\n"
      ]
    },
    {
      "cell_type": "code",
      "execution_count": null,
      "metadata": {
        "id": "bJGPaw-pQ-RX"
      },
      "outputs": [],
      "source": [
        "#frog Jump\n",
        "def jump(a, b, k) :\n",
        "  if ( k % 2 == 0 ) :\n",
        "    return (a - b) * k // 2\n",
        "  else :\n",
        "    return (a - b) * (k // 2) + a\n",
        " \n",
        "t = int(input())\n",
        "for i in range(t) :\n",
        "  a, b, k = map(int, input().split())\n",
        "  result = jump(a, b, k)\n",
        "  print(result)"
      ]
    },
    {
      "cell_type": "code",
      "execution_count": null,
      "metadata": {
        "id": "U7wmvjixRFv4"
      },
      "outputs": [],
      "source": [
        "#rank\n",
        "n=int(input())\n",
        "s=[]\n",
        "for i in range(n):\n",
        "    a=[int(i) for i in input().split()]\n",
        "    s.append(sum(a))\n",
        "if s[0]==max(s):\n",
        "    print('1')\n",
        "    exit()\n",
        "thomas=s[0]\n",
        "rank=1\n",
        "s.sort(reverse=True)\n",
        "for i in s:\n",
        "    if i==thomas:\n",
        "        print(rank)\n",
        "        break\n",
        "    else:\n",
        "        rank+=1\n"
      ]
    },
    {
      "cell_type": "code",
      "execution_count": null,
      "metadata": {
        "id": "aenYVScYRULG"
      },
      "outputs": [],
      "source": [
        "#golden plate\n",
        "w,h,k=map(int,input().split()) \n",
        "new_sum=0 \n",
        "for i in range(k): \n",
        "    b=2*w+2*h-4 \n",
        "    new_sum=new_sum+b \n",
        "    w=w-4 \n",
        "    h=h-4 \n",
        "print(new_sum)"
      ]
    },
    {
      "cell_type": "code",
      "execution_count": null,
      "metadata": {
        "id": "x_-WdOppRhOY"
      },
      "outputs": [],
      "source": [
        "#Bear\n",
        "a,b=map(int,input().split())\n",
        "i=0\n",
        "while(a<=b):\n",
        "    a=3*a\n",
        "    b=2*b\n",
        "    i=i+1\n",
        "print(i)"
      ]
    },
    {
      "cell_type": "markdown",
      "metadata": {
        "id": "7X8Qlc5-RugX"
      },
      "source": [
        "Week-4\n"
      ]
    },
    {
      "cell_type": "code",
      "execution_count": null,
      "metadata": {
        "id": "rIA3kO7PRnfe"
      },
      "outputs": [],
      "source": [
        "#elections\n",
        "n = int(input())\n",
        "for i in range(n):\n",
        "    a,b,c=map(int,input().split())\n",
        "    print(max(a,b+1,c+1)-a,max(a+1,b,c+1)-b,max(a+1,b+1,c)-c)"
      ]
    },
    {
      "cell_type": "code",
      "execution_count": null,
      "metadata": {
        "id": "Q7kc9c0_SJeu"
      },
      "outputs": [],
      "source": [
        "#fafa\n",
        "n=int(input())\n",
        "a=0\n",
        "for i in range(1,(n//2)+1):\n",
        "    if(n-i)%i==0:\n",
        "        a=a+1\n",
        "print(a)"
      ]
    },
    {
      "cell_type": "code",
      "execution_count": null,
      "metadata": {
        "id": "NXfcYg2ESROf"
      },
      "outputs": [],
      "source": [
        "#elephant\n",
        "n=int(input())\n",
        "if n%5==0:\n",
        "    print(n//5)\n",
        "else:\n",
        "    print(n//5+1)"
      ]
    },
    {
      "cell_type": "code",
      "execution_count": null,
      "metadata": {
        "id": "sSQhUojgSgtW"
      },
      "outputs": [],
      "source": [
        "#dice\n",
        "n=int(input())\n",
        "for i in range(n):\n",
        "    x=int(input())\n",
        "    if (x<=7):\n",
        "        print(1)\n",
        "    else:\n",
        "        print(int(x//7)+1)"
      ]
    },
    {
      "cell_type": "code",
      "execution_count": null,
      "metadata": {
        "id": "eC6_jzccSopt"
      },
      "outputs": [],
      "source": [
        "#team\n",
        "n=int(input()) \n",
        "count=0 \n",
        "for i in range(n): \n",
        "    a,b,c=map(int,input().split()) \n",
        "    if a+b+c>1: \n",
        "        count=count+1 \n",
        " \n",
        "print(count)"
      ]
    },
    {
      "cell_type": "code",
      "execution_count": null,
      "metadata": {
        "id": "jRX-QbR6Sves"
      },
      "outputs": [],
      "source": [
        "#candies\n",
        "n=int(input())\n",
        "for i in range(n):\n",
        "    x=int(input())\n",
        "    print((x-1)//2)"
      ]
    },
    {
      "cell_type": "markdown",
      "metadata": {
        "id": "BQD82FzZS6rO"
      },
      "source": [
        "Week-5 strings"
      ]
    },
    {
      "cell_type": "markdown",
      "metadata": {
        "id": "0iY7BfRHS_Fv"
      },
      "source": [
        "week-6"
      ]
    },
    {
      "cell_type": "code",
      "execution_count": null,
      "metadata": {
        "id": "qgAJd4rSS2gW"
      },
      "outputs": [],
      "source": [
        "#football\n",
        "n=input()\n",
        "if 7*'1' in n or 7*'0' in n:\n",
        "    print('YES')\n",
        "else:\n",
        "    print('NO')"
      ]
    },
    {
      "cell_type": "code",
      "execution_count": null,
      "metadata": {
        "id": "STdBQ73vTffH"
      },
      "outputs": [],
      "source": [
        "#romaji\n",
        "p=input()\n",
        "u=len(p)\n",
        "v=['a','e','i','o','u']\n",
        "result='Yes'\n",
        "for i in range(u-1):\n",
        "    if p[i]!='n' and p[i] not in v:\n",
        "        if p[i+1] not in v:\n",
        "            result='No'\n",
        "if p[-1] not in v and p[-1]!='n':\n",
        "    result='No'\n",
        "print(result)"
      ]
    },
    {
      "cell_type": "code",
      "execution_count": null,
      "metadata": {
        "id": "HCZIHS24TrVW"
      },
      "outputs": [],
      "source": [
        "#mike\n",
        "p=input()\n",
        "n=len(p)\n",
        "m=0\n",
        "for i in range(0,n//2):\n",
        "    if p[i]!=p[-1-i]:\n",
        "        m+=1\n",
        "        a='no'\n",
        "if m==1 or (m==0 and n%2==1):\n",
        "    a='yes'\n",
        "else:\n",
        "    a='no'\n",
        "print(a)"
      ]
    },
    {
      "cell_type": "code",
      "execution_count": null,
      "metadata": {
        "id": "JIDiOKFZTzwH"
      },
      "outputs": [],
      "source": [
        "#minimize\n",
        "n=int(input())\n",
        "s=input()+\" \"\n",
        "l1=list(s)\n",
        "for i in range(n):\n",
        "    if l1[i]>l1[i+1]:\n",
        "        del l1[i]\n",
        "        break\n",
        "print(\"\".join(l1))"
      ]
    },
    {
      "cell_type": "code",
      "execution_count": null,
      "metadata": {
        "id": "f2Ruu1GTT6Su"
      },
      "outputs": [],
      "source": [
        "#superhero\n",
        "p=input()\n",
        "u=input()\n",
        "v=['a','e','i','o','u']\n",
        "if len(p)==len(u):\n",
        "    for i in range(len(p)):\n",
        "        if p[i] not in v and u[i] in v:\n",
        "            print('No')\n",
        "            exit(0)\n",
        "        elif p[i] in v and u[i] not in v:\n",
        "            print('No')\n",
        "            exit(0)\n",
        "    print('Yes')\n",
        "else:\n",
        "    print('No')"
      ]
    },
    {
      "cell_type": "markdown",
      "metadata": {
        "id": "1eoNMUO-UJKm"
      },
      "source": [
        "week-7"
      ]
    },
    {
      "cell_type": "code",
      "execution_count": null,
      "metadata": {
        "id": "q45SyxA7UF6W"
      },
      "outputs": [],
      "source": [
        "#repeat\n",
        "n=int(input())\n",
        "p=input()\n",
        "i=0\n",
        "j=1\n",
        "while i<n:\n",
        "    print(p[i],end=\"\")\n",
        "    i+=j\n",
        "    j+=1"
      ]
    },
    {
      "cell_type": "code",
      "execution_count": null,
      "metadata": {
        "id": "iK_-85HdUQRe"
      },
      "outputs": [],
      "source": [
        "#diagonal\n",
        "n=int(input())\n",
        "x=input()\n",
        "a=0\n",
        "b=0\n",
        "i=0\n",
        "while i<n-1:\n",
        "    if x[i]!=x[i+1]:\n",
        "        a=a+1\n",
        "        i=i+2\n",
        "    else:\n",
        "        i=i+1\n",
        "print(n-a)"
      ]
    },
    {
      "cell_type": "code",
      "execution_count": null,
      "metadata": {
        "id": "_HyeOyRoUWXp"
      },
      "outputs": [],
      "source": [
        "#love\n",
        "n = input() \n",
        "numberofa = 0\n",
        "for i in n:\n",
        "    if i == 'a':\n",
        "        numberofa+=1\n",
        "otherletters = len(n)-numberofa\n",
        "if otherletters>=numberofa:\n",
        "    otherletters = numberofa-1\n",
        "    print(numberofa+otherletters)\n",
        "else:\n",
        "    print(len(n)) "
      ]
    },
    {
      "cell_type": "code",
      "execution_count": null,
      "metadata": {
        "id": "vkm0rkCDUdM2"
      },
      "outputs": [],
      "source": [
        "#boy or girl\n",
        "n=input()\n",
        "set=set(n)\n",
        "if len(set)%2==0:\n",
        "    print('CHAT WITH HER!')\n",
        "else:\n",
        "    print('IGNORE HIM!')\n",
        "    \n"
      ]
    },
    {
      "cell_type": "code",
      "execution_count": null,
      "metadata": {
        "id": "YVBGOMpvUnPW"
      },
      "outputs": [],
      "source": [
        "#word\n",
        "n=input()\n",
        "c=0\n",
        "for i in range(len(n)):\n",
        "    if n[i].isupper():\n",
        "        c=c+1\n",
        "if c>1/2*len(n):\n",
        "    print(n.upper())\n",
        "else:\n",
        "    print(n.lower())"
      ]
    },
    {
      "cell_type": "markdown",
      "metadata": {
        "id": "MotHb5wPU6t2"
      },
      "source": [
        "week-8 lists"
      ]
    },
    {
      "cell_type": "markdown",
      "metadata": {
        "id": "mGcyJLbxU9EO"
      },
      "source": [
        "week-9"
      ]
    },
    {
      "cell_type": "code",
      "execution_count": null,
      "metadata": {
        "id": "Ub-sD-tbUuAX"
      },
      "outputs": [],
      "source": [
        "#easyprblm\n",
        "n = int(input())\n",
        "p = list(map(int, input().split()))\n",
        "if sum(p):\n",
        "    print('HARD')\n",
        "else:\n",
        "    print('EASY')"
      ]
    },
    {
      "cell_type": "code",
      "execution_count": null,
      "metadata": {
        "id": "yBFJGft3VGZW"
      },
      "outputs": [],
      "source": [
        "#coins\n",
        "a,b =map(int,input().split())\n",
        "if b%a==0:\n",
        "    print(b//a)\n",
        "else:\n",
        "    c=(b//a)+1\n",
        "    print(c)"
      ]
    },
    {
      "cell_type": "code",
      "execution_count": null,
      "metadata": {
        "id": "GGep2R89VLyG"
      },
      "outputs": [],
      "source": [
        "#goodnumber\n",
        "n,k = map(int,input().split())\n",
        "count = 0\n",
        "l = []\n",
        "for j in range(n):\n",
        "    a = input()\n",
        "    for i in range(k+1):\n",
        "        l.append(a.count(str(i)))\n",
        "    for i in l:\n",
        "        if i>0:\n",
        "            bool = True\n",
        "        else:\n",
        "            bool = False\n",
        "            break\n",
        "    if bool:\n",
        "        count+=1\n",
        "    l = []\n",
        "    bool = False\n",
        "print(count)"
      ]
    },
    {
      "cell_type": "code",
      "execution_count": null,
      "metadata": {
        "id": "AOf_LBdRVZdn"
      },
      "outputs": [],
      "source": [
        "#police\n",
        "n = int(input())\n",
        "c = 0\n",
        "s = 0\n",
        "list = map(int,input().split())\n",
        "for i in list:\n",
        "    s+=i\n",
        "    if s == -1:\n",
        "        c+=1\n",
        "        s=0\n",
        "print(c)"
      ]
    },
    {
      "cell_type": "markdown",
      "metadata": {
        "id": "VIu9U-HtVnKB"
      },
      "source": [
        "week-10"
      ]
    },
    {
      "cell_type": "code",
      "execution_count": null,
      "metadata": {
        "id": "QImTSwjRVe4X"
      },
      "outputs": [],
      "source": [
        "#unimodal\n",
        "a=int(input()) \n",
        "b=list(map(int,input().split())) \n",
        "c=0 \n",
        "while c < a-1 and b[c]<b[c+1]: \n",
        "    c=c+1 \n",
        "while c <a-1 and b[c]==b[c+1]: \n",
        "    c=c+1 \n",
        "while c<a-1 and b[c]>b[c+1]: \n",
        "    c=c+1 \n",
        "if c==a-1: \n",
        "    print(\"YES\") \n",
        "else: \n",
        "    print(\"NO\")\n"
      ]
    },
    {
      "cell_type": "code",
      "execution_count": null,
      "metadata": {
        "id": "rHvfR8dfVtd2"
      },
      "outputs": [],
      "source": [
        "#lesha\n",
        "n=int(input())\n",
        "a=list(map(int,input().split()))\n",
        "if (a.count(0)==n):\n",
        "  print(\"NO\")\n",
        "else:\n",
        "  print(\"YES\")\n",
        "  x=sum(a)\n",
        "  if x!=0:\n",
        "    print(1)\n",
        "    print(1, n)\n",
        "  else:\n",
        "    for i in range(n):\n",
        "      x-=a[i]\n",
        "      if x!=0:\n",
        "        print(2)\n",
        "        print(1, i + 1)\n",
        "        print(i + 2, n)\n",
        "        break"
      ]
    },
    {
      "cell_type": "code",
      "execution_count": null,
      "metadata": {
        "id": "3_bpMjm3VzcW"
      },
      "outputs": [],
      "source": [
        "#spy\n",
        "p=int(input())\n",
        "for i in range (p):\n",
        "  n = int(input())\n",
        "  a = list(map(int, input().split()))\n",
        "  same_key = sorted(a)[1]\n",
        "  for j in range(n):\n",
        "    if a[j] != same_key:\n",
        "      print(j + 1)\n",
        "      break"
      ]
    },
    {
      "cell_type": "code",
      "execution_count": null,
      "metadata": {
        "id": "Z4gRXx4oV4ZG"
      },
      "outputs": [],
      "source": [
        "#review\n",
        "n=int(input())\n",
        "sum=0\n",
        "for i in range(n):\n",
        "    p=int(input())\n",
        "    l=list(map(int,input().split(\" \")))\n",
        "    for j in range(p):\n",
        "        if l[j]==1 or l[j]==3:\n",
        "            sum+=1\n",
        "    print(sum)\n",
        "    sum=0"
      ]
    },
    {
      "cell_type": "markdown",
      "metadata": {
        "id": "7reVZvAXWN9P"
      },
      "source": [
        "week-11 recursion"
      ]
    },
    {
      "cell_type": "markdown",
      "metadata": {
        "id": "9uxf9ajKWPz1"
      },
      "source": [
        "week-12\n"
      ]
    },
    {
      "cell_type": "code",
      "execution_count": null,
      "metadata": {
        "id": "Iu9C7nINV9E-"
      },
      "outputs": [],
      "source": [
        "#ehab\n",
        "n=int(input())\n",
        "if n<=1:\n",
        "    print(-1)\n",
        "elif n*n>n and n//n<n:\n",
        "    print(n,n,end='')"
      ]
    },
    {
      "cell_type": "code",
      "execution_count": null,
      "metadata": {
        "id": "02dVHjcZW4b5"
      },
      "outputs": [],
      "source": [
        "#find divisible\n",
        "n=int(input())\n",
        "for i in range(n):\n",
        "    a,b=map(int,input().split())\n",
        "    print(a,a*2)"
      ]
    },
    {
      "cell_type": "code",
      "execution_count": null,
      "metadata": {
        "id": "4U7ruzfBXDgw"
      },
      "outputs": [],
      "source": [
        "#filename\n",
        "n=int(input())\n",
        "a=input()\n",
        "count=0\n",
        "for i in range(n-2):\n",
        "    if a[i]==a[i+1]==a[i+2]=='x':\n",
        "        count=count+1\n",
        "if count==0:\n",
        "    print(\"0\")\n",
        "else:\n",
        "    print(count)"
      ]
    },
    {
      "cell_type": "code",
      "execution_count": null,
      "metadata": {
        "id": "bcgpNwcDXMIG"
      },
      "outputs": [],
      "source": [
        "#twogram\n",
        "n=int(input())\n",
        "s=input()\n",
        "max_str=0\n",
        "final_ans=0\n",
        "for i in range(n-1):\n",
        "    count=0\n",
        "    for j in range(i,n-1):\n",
        "        if s[i:i+2]==s[j:j+2]:\n",
        "            count=count+1\n",
        "    if count>max_str:\n",
        "        max_str=count\n",
        "        final_ans=s[i:i+2]\n",
        "print(final_ans)"
      ]
    },
    {
      "cell_type": "code",
      "execution_count": null,
      "metadata": {
        "id": "AOEH7bVbXTW0"
      },
      "outputs": [],
      "source": [
        "#sumofdigits\n",
        "n=int(input())\n",
        "for i in range(n):\n",
        "    def abc(n):\n",
        "        if n<10:\n",
        "            return n\n",
        "        elif n==10:\n",
        "            return 1\n",
        "        else:\n",
        "            return n%10 + abc(n//10)\n",
        "\n",
        "    a=int(input())\n",
        "    ans=abc(a)\n",
        "    print(ans)"
      ]
    }
  ],
  "metadata": {
    "colab": {
      "collapsed_sections": [],
      "name": "codes.ipynb",
      "provenance": []
    },
    "kernelspec": {
      "display_name": "Python 3",
      "name": "python3"
    },
    "language_info": {
      "name": "python"
    }
  },
  "nbformat": 4,
  "nbformat_minor": 0
}
